{
 "cells": [
  {
   "cell_type": "code",
   "execution_count": 3,
   "id": "f89a52d7-4e4f-4332-8616-fc04c6a02645",
   "metadata": {
    "tags": []
   },
   "outputs": [],
   "source": [
    "import pandas as pd \n",
    "import numpy as np"
   ]
  },
  {
   "cell_type": "markdown",
   "id": "e30f7780-5e63-453b-8d00-effea3045dfc",
   "metadata": {},
   "source": [
    "**Given the following confusion matrix, evaluate (by hand) the model's performance.**\n",
    "\n",
    "\n",
    "|               | pred dog   | pred cat   |\n",
    "|:------------  |-----------:|-----------:|\n",
    "| actual dog    |         46 |         7  |\n",
    "| actual cat    |         13 |         34 |\n"
   ]
  },
  {
   "cell_type": "markdown",
   "id": "e3ece367-8d75-4051-ae14-15c30cbba14c",
   "metadata": {},
   "source": [
    "* In the context of this problem, what is a false positive?\n"
   ]
  },
  {
   "cell_type": "markdown",
   "id": "6fd09b70-7e0c-4898-a348-df571b2153c9",
   "metadata": {},
   "source": [
    "Predicted Dog and Actual Cat"
   ]
  },
  {
   "cell_type": "markdown",
   "id": "3e90cca2-0da6-4dc5-bff6-3b27f55ef738",
   "metadata": {},
   "source": [
    "* In the context of this problem, what is a false negative?\n"
   ]
  },
  {
   "cell_type": "markdown",
   "id": "feb245af-fc3e-4072-9e60-6416c9bf9612",
   "metadata": {},
   "source": [
    "Predicted Cat and Actual Dog"
   ]
  },
  {
   "cell_type": "markdown",
   "id": "83d4d534-8558-4ef1-a853-fb59783af04e",
   "metadata": {},
   "source": [
    "* How would you describe this model?"
   ]
  },
  {
   "cell_type": "code",
   "execution_count": 106,
   "id": "d4e8727b-aff8-4983-8f34-29295c028e57",
   "metadata": {
    "tags": []
   },
   "outputs": [
    {
     "data": {
      "text/plain": [
       "0.8"
      ]
     },
     "execution_count": 106,
     "metadata": {},
     "output_type": "execute_result"
    }
   ],
   "source": [
    "tp = 46\n",
    "tn = 34\n",
    "fp = 13\n",
    "fn = 7\n",
    "accuracy = (tp + tn) / (tp + tn + fp + fn)\n",
    "accuracy"
   ]
  },
  {
   "cell_type": "markdown",
   "id": "2a90dc72-a9aa-406a-bab5-bbe6d5c4b0ea",
   "metadata": {},
   "source": [
    "**You are working as a datascientist working for Codeup Cody Creator (C3 for short), a rubber-duck manufacturing plant.**\n",
    "\n",
    "**Unfortunately, some of the rubber ducks that are produced will have defects. Your team has built several models that try to predict those defects, and the data from their predictions can be found here.**\n",
    "\n",
    "**Use the predictions dataset and pandas to help answer the following questions:**\n",
    "\n"
   ]
  },
  {
   "cell_type": "code",
   "execution_count": 13,
   "id": "cbe2f010-9ab6-4fac-8d11-aead86fcc7a1",
   "metadata": {
    "tags": []
   },
   "outputs": [
    {
     "data": {
      "text/html": [
       "<div>\n",
       "<style scoped>\n",
       "    .dataframe tbody tr th:only-of-type {\n",
       "        vertical-align: middle;\n",
       "    }\n",
       "\n",
       "    .dataframe tbody tr th {\n",
       "        vertical-align: top;\n",
       "    }\n",
       "\n",
       "    .dataframe thead th {\n",
       "        text-align: right;\n",
       "    }\n",
       "</style>\n",
       "<table border=\"1\" class=\"dataframe\">\n",
       "  <thead>\n",
       "    <tr style=\"text-align: right;\">\n",
       "      <th></th>\n",
       "      <th>actual</th>\n",
       "      <th>model1</th>\n",
       "      <th>model2</th>\n",
       "      <th>model3</th>\n",
       "    </tr>\n",
       "  </thead>\n",
       "  <tbody>\n",
       "    <tr>\n",
       "      <th>0</th>\n",
       "      <td>No Defect</td>\n",
       "      <td>No Defect</td>\n",
       "      <td>Defect</td>\n",
       "      <td>No Defect</td>\n",
       "    </tr>\n",
       "    <tr>\n",
       "      <th>1</th>\n",
       "      <td>No Defect</td>\n",
       "      <td>No Defect</td>\n",
       "      <td>Defect</td>\n",
       "      <td>Defect</td>\n",
       "    </tr>\n",
       "    <tr>\n",
       "      <th>2</th>\n",
       "      <td>No Defect</td>\n",
       "      <td>No Defect</td>\n",
       "      <td>Defect</td>\n",
       "      <td>No Defect</td>\n",
       "    </tr>\n",
       "    <tr>\n",
       "      <th>3</th>\n",
       "      <td>No Defect</td>\n",
       "      <td>Defect</td>\n",
       "      <td>Defect</td>\n",
       "      <td>Defect</td>\n",
       "    </tr>\n",
       "    <tr>\n",
       "      <th>4</th>\n",
       "      <td>No Defect</td>\n",
       "      <td>No Defect</td>\n",
       "      <td>Defect</td>\n",
       "      <td>No Defect</td>\n",
       "    </tr>\n",
       "    <tr>\n",
       "      <th>...</th>\n",
       "      <td>...</td>\n",
       "      <td>...</td>\n",
       "      <td>...</td>\n",
       "      <td>...</td>\n",
       "    </tr>\n",
       "    <tr>\n",
       "      <th>195</th>\n",
       "      <td>No Defect</td>\n",
       "      <td>No Defect</td>\n",
       "      <td>Defect</td>\n",
       "      <td>Defect</td>\n",
       "    </tr>\n",
       "    <tr>\n",
       "      <th>196</th>\n",
       "      <td>Defect</td>\n",
       "      <td>Defect</td>\n",
       "      <td>No Defect</td>\n",
       "      <td>No Defect</td>\n",
       "    </tr>\n",
       "    <tr>\n",
       "      <th>197</th>\n",
       "      <td>No Defect</td>\n",
       "      <td>No Defect</td>\n",
       "      <td>No Defect</td>\n",
       "      <td>No Defect</td>\n",
       "    </tr>\n",
       "    <tr>\n",
       "      <th>198</th>\n",
       "      <td>No Defect</td>\n",
       "      <td>No Defect</td>\n",
       "      <td>Defect</td>\n",
       "      <td>Defect</td>\n",
       "    </tr>\n",
       "    <tr>\n",
       "      <th>199</th>\n",
       "      <td>No Defect</td>\n",
       "      <td>No Defect</td>\n",
       "      <td>No Defect</td>\n",
       "      <td>Defect</td>\n",
       "    </tr>\n",
       "  </tbody>\n",
       "</table>\n",
       "<p>200 rows × 4 columns</p>\n",
       "</div>"
      ],
      "text/plain": [
       "        actual     model1     model2     model3\n",
       "0    No Defect  No Defect     Defect  No Defect\n",
       "1    No Defect  No Defect     Defect     Defect\n",
       "2    No Defect  No Defect     Defect  No Defect\n",
       "3    No Defect     Defect     Defect     Defect\n",
       "4    No Defect  No Defect     Defect  No Defect\n",
       "..         ...        ...        ...        ...\n",
       "195  No Defect  No Defect     Defect     Defect\n",
       "196     Defect     Defect  No Defect  No Defect\n",
       "197  No Defect  No Defect  No Defect  No Defect\n",
       "198  No Defect  No Defect     Defect     Defect\n",
       "199  No Defect  No Defect  No Defect     Defect\n",
       "\n",
       "[200 rows x 4 columns]"
      ]
     },
     "execution_count": 13,
     "metadata": {},
     "output_type": "execute_result"
    }
   ],
   "source": [
    "df = pd.read_csv('c3.csv')\n",
    "df"
   ]
  },
  {
   "cell_type": "code",
   "execution_count": 9,
   "id": "6ac1d71d-0708-4704-b6f7-16e28a47f31b",
   "metadata": {
    "tags": []
   },
   "outputs": [
    {
     "data": {
      "text/plain": [
       "(200, 3)"
      ]
     },
     "execution_count": 9,
     "metadata": {},
     "output_type": "execute_result"
    }
   ],
   "source": [
    "df.shape"
   ]
  },
  {
   "cell_type": "markdown",
   "id": "793e9e64-2b03-494b-a03a-722e715f9585",
   "metadata": {},
   "source": [
    "* An internal team wants to investigate the cause of the manufacturing defects. They tell you that they want to identify as many of the ducks that have a defect as possible. Which evaluation metric would be appropriate here? Which model would be the best fit for this use case?"
   ]
  },
  {
   "cell_type": "code",
   "execution_count": 20,
   "id": "d1603252-8ea3-4ebf-94f3-dd9ef2da8d1f",
   "metadata": {
    "tags": []
   },
   "outputs": [
    {
     "data": {
      "text/html": [
       "<div>\n",
       "<style scoped>\n",
       "    .dataframe tbody tr th:only-of-type {\n",
       "        vertical-align: middle;\n",
       "    }\n",
       "\n",
       "    .dataframe tbody tr th {\n",
       "        vertical-align: top;\n",
       "    }\n",
       "\n",
       "    .dataframe thead th {\n",
       "        text-align: right;\n",
       "    }\n",
       "</style>\n",
       "<table border=\"1\" class=\"dataframe\">\n",
       "  <thead>\n",
       "    <tr style=\"text-align: right;\">\n",
       "      <th>model1</th>\n",
       "      <th>Defect</th>\n",
       "      <th>No Defect</th>\n",
       "    </tr>\n",
       "    <tr>\n",
       "      <th>actual</th>\n",
       "      <th></th>\n",
       "      <th></th>\n",
       "    </tr>\n",
       "  </thead>\n",
       "  <tbody>\n",
       "    <tr>\n",
       "      <th>Defect</th>\n",
       "      <td>8</td>\n",
       "      <td>8</td>\n",
       "    </tr>\n",
       "    <tr>\n",
       "      <th>No Defect</th>\n",
       "      <td>2</td>\n",
       "      <td>182</td>\n",
       "    </tr>\n",
       "  </tbody>\n",
       "</table>\n",
       "</div>"
      ],
      "text/plain": [
       "model1     Defect  No Defect\n",
       "actual                      \n",
       "Defect          8          8\n",
       "No Defect       2        182"
      ]
     },
     "execution_count": 20,
     "metadata": {},
     "output_type": "execute_result"
    }
   ],
   "source": [
    "m1_counts = pd.crosstab(df.actual, df.model1)\n",
    "tp1 = m1_counts.iloc[0,0] #rows, columns\n",
    "fn1 = m1_counts.iloc[0,1]\n",
    "fp1 = m1_counts.iloc[1,0]\n",
    "tn1 = m1_counts.iloc[1,1]\n",
    "m1_counts"
   ]
  },
  {
   "cell_type": "code",
   "execution_count": 21,
   "id": "51f392f5-536e-4d45-8764-88839e305601",
   "metadata": {
    "tags": []
   },
   "outputs": [
    {
     "data": {
      "text/html": [
       "<div>\n",
       "<style scoped>\n",
       "    .dataframe tbody tr th:only-of-type {\n",
       "        vertical-align: middle;\n",
       "    }\n",
       "\n",
       "    .dataframe tbody tr th {\n",
       "        vertical-align: top;\n",
       "    }\n",
       "\n",
       "    .dataframe thead th {\n",
       "        text-align: right;\n",
       "    }\n",
       "</style>\n",
       "<table border=\"1\" class=\"dataframe\">\n",
       "  <thead>\n",
       "    <tr style=\"text-align: right;\">\n",
       "      <th>model2</th>\n",
       "      <th>Defect</th>\n",
       "      <th>No Defect</th>\n",
       "    </tr>\n",
       "    <tr>\n",
       "      <th>actual</th>\n",
       "      <th></th>\n",
       "      <th></th>\n",
       "    </tr>\n",
       "  </thead>\n",
       "  <tbody>\n",
       "    <tr>\n",
       "      <th>Defect</th>\n",
       "      <td>9</td>\n",
       "      <td>7</td>\n",
       "    </tr>\n",
       "    <tr>\n",
       "      <th>No Defect</th>\n",
       "      <td>81</td>\n",
       "      <td>103</td>\n",
       "    </tr>\n",
       "  </tbody>\n",
       "</table>\n",
       "</div>"
      ],
      "text/plain": [
       "model2     Defect  No Defect\n",
       "actual                      \n",
       "Defect          9          7\n",
       "No Defect      81        103"
      ]
     },
     "execution_count": 21,
     "metadata": {},
     "output_type": "execute_result"
    }
   ],
   "source": [
    "m2_counts = pd.crosstab(df.actual, df.model2)\n",
    "tp2 = m2_counts.iloc[0,0] #rows, columns\n",
    "fn2 = m2_counts.iloc[0,1]\n",
    "fp2 = m2_counts.iloc[1,0]\n",
    "tn2 = m2_counts.iloc[1,1]\n",
    "m2_counts"
   ]
  },
  {
   "cell_type": "code",
   "execution_count": 36,
   "id": "1e0011b8-df42-4ff1-b27f-8dc332203c50",
   "metadata": {
    "tags": []
   },
   "outputs": [
    {
     "data": {
      "text/html": [
       "<div>\n",
       "<style scoped>\n",
       "    .dataframe tbody tr th:only-of-type {\n",
       "        vertical-align: middle;\n",
       "    }\n",
       "\n",
       "    .dataframe tbody tr th {\n",
       "        vertical-align: top;\n",
       "    }\n",
       "\n",
       "    .dataframe thead th {\n",
       "        text-align: right;\n",
       "    }\n",
       "</style>\n",
       "<table border=\"1\" class=\"dataframe\">\n",
       "  <thead>\n",
       "    <tr style=\"text-align: right;\">\n",
       "      <th>model3</th>\n",
       "      <th>Defect</th>\n",
       "      <th>No Defect</th>\n",
       "    </tr>\n",
       "    <tr>\n",
       "      <th>actual</th>\n",
       "      <th></th>\n",
       "      <th></th>\n",
       "    </tr>\n",
       "  </thead>\n",
       "  <tbody>\n",
       "    <tr>\n",
       "      <th>Defect</th>\n",
       "      <td>13</td>\n",
       "      <td>3</td>\n",
       "    </tr>\n",
       "    <tr>\n",
       "      <th>No Defect</th>\n",
       "      <td>86</td>\n",
       "      <td>98</td>\n",
       "    </tr>\n",
       "  </tbody>\n",
       "</table>\n",
       "</div>"
      ],
      "text/plain": [
       "model3     Defect  No Defect\n",
       "actual                      \n",
       "Defect         13          3\n",
       "No Defect      86         98"
      ]
     },
     "execution_count": 36,
     "metadata": {},
     "output_type": "execute_result"
    }
   ],
   "source": [
    "m3_counts = pd.crosstab(df.actual, df.model3)\n",
    "tp3 = m3_counts.iloc[0,0] #rows, columns\n",
    "fn3 = m3_counts.iloc[0,1]\n",
    "fp3 = m3_counts.iloc[1,0]\n",
    "tn3 = m3_counts.iloc[1,1]\n",
    "m3_counts"
   ]
  },
  {
   "cell_type": "code",
   "execution_count": 34,
   "id": "ab0c614e-89ce-4608-8b6c-3061847fd8ff",
   "metadata": {
    "tags": []
   },
   "outputs": [
    {
     "name": "stdout",
     "output_type": "stream",
     "text": [
      "Model 1 -  0.5\n",
      "Model 2 -  0.5625\n",
      "Model 3 -  0.8125\n"
     ]
    }
   ],
   "source": [
    "model1_test = tp1 / (tp1+fn1)\n",
    "print('Model 1 - ',model1_test)\n",
    "model2_test = tp2 / (tp2+fn2)\n",
    "print('Model 2 - ',model2_test)\n",
    "model3_test = (tp3 / (tp3+fn3))\n",
    "print('Model 3 - ',model3_test)"
   ]
  },
  {
   "cell_type": "code",
   "execution_count": 39,
   "id": "1fd395d1-d941-4680-b662-342061cf6b70",
   "metadata": {
    "tags": []
   },
   "outputs": [
    {
     "name": "stdout",
     "output_type": "stream",
     "text": [
      "0.5\n",
      "0.5625\n",
      "0.8125\n"
     ]
    }
   ],
   "source": [
    "#checking mean to model test\n",
    "pos_actuals1 = df[df.actual == 'Defect']\n",
    "print((pos_actuals.actual == pos_actuals.model1).mean())\n",
    "pos_actuals2 = df[df.actual == 'Defect']\n",
    "print((pos_actuals.actual == pos_actuals.model2).mean())\n",
    "pos_actuals3 = df[df.actual == 'Defect']\n",
    "print((pos_actuals.actual == pos_actuals.model3).mean())"
   ]
  },
  {
   "cell_type": "markdown",
   "id": "e882be57-a921-4517-9c1e-8958e9565497",
   "metadata": {},
   "source": [
    "* Recently several stories in the local news have come out highlighting customers who received a rubber duck with a defect, and portraying C3 in a bad light. The PR team has decided to launch a program that gives customers with a defective duck a vacation to Hawaii. They need you to predict which ducks will have defects, but tell you the really don't want to accidentally give out a vacation package when the duck really doesn't have a defect. Which evaluation metric would be appropriate here? Which model would be the best fit for this use case?"
   ]
  },
  {
   "cell_type": "markdown",
   "id": "4b69602b-ce54-4e2c-819e-11c9d93a49e4",
   "metadata": {},
   "source": [
    "positive case = 'defect'\n",
    "\n",
    "negative case = 'no defect'\n",
    "\n",
    "false negatives = when i predicted no defect, but there was a defect\n",
    "\n",
    "false positives = when i predicted defect, but there was no defect\n",
    "\n",
    "recall = minimize false negatives, looking at positive actuals\n",
    "\n",
    "precision = minimize false positives, looking at positive predictions"
   ]
  },
  {
   "cell_type": "code",
   "execution_count": 40,
   "id": "ad18747e-b4d6-40aa-9cb7-125cca0c8f60",
   "metadata": {
    "tags": []
   },
   "outputs": [
    {
     "name": "stdout",
     "output_type": "stream",
     "text": [
      "Model 1 -  0.8\n",
      "Model 2 -  0.1\n",
      "Model 3 -  0.13131313131313133\n"
     ]
    }
   ],
   "source": [
    "model1_test = tp1 / (tp1+fp1)\n",
    "print('Model 1 - ',model1_test)\n",
    "model2_test = tp2 / (tp2+fp2)\n",
    "print('Model 2 - ',model2_test)\n",
    "model3_test = (tp3 / (tp3+fp3))\n",
    "print('Model 3 - ',model3_test)"
   ]
  },
  {
   "cell_type": "markdown",
   "id": "9fb3c508-e635-4d73-94a7-3f8f3a54bfc0",
   "metadata": {},
   "source": [
    "**You are working as a data scientist for Gives You Paws ™, a subscription based service that shows you cute pictures of dogs or cats (or both for an additional fee).**\n",
    "\n",
    "**At Gives You Paws, anyone can upload pictures of their cats or dogs. The photos are then put through a two step process. First an automated algorithm tags pictures as either a cat or a dog (Phase I). Next, the photos that have been initially identified are put through another round of review, possibly with some human oversight, before being presented to the users (Phase II).**\n",
    "\n",
    "**Several models have already been developed with the data, and you can find their results here.**\n",
    "\n",
    "**Given this dataset, use pandas to create a baseline model (i.e. a model that just predicts the most common class) and answer the following questions:**\n",
    "\n"
   ]
  },
  {
   "cell_type": "code",
   "execution_count": 57,
   "id": "05b15925-8a4a-4fe0-8981-293b4fd6edf5",
   "metadata": {
    "tags": []
   },
   "outputs": [
    {
     "data": {
      "text/html": [
       "<div>\n",
       "<style scoped>\n",
       "    .dataframe tbody tr th:only-of-type {\n",
       "        vertical-align: middle;\n",
       "    }\n",
       "\n",
       "    .dataframe tbody tr th {\n",
       "        vertical-align: top;\n",
       "    }\n",
       "\n",
       "    .dataframe thead th {\n",
       "        text-align: right;\n",
       "    }\n",
       "</style>\n",
       "<table border=\"1\" class=\"dataframe\">\n",
       "  <thead>\n",
       "    <tr style=\"text-align: right;\">\n",
       "      <th></th>\n",
       "      <th>actual</th>\n",
       "      <th>model1</th>\n",
       "      <th>model2</th>\n",
       "      <th>model3</th>\n",
       "      <th>model4</th>\n",
       "    </tr>\n",
       "  </thead>\n",
       "  <tbody>\n",
       "    <tr>\n",
       "      <th>0</th>\n",
       "      <td>cat</td>\n",
       "      <td>cat</td>\n",
       "      <td>dog</td>\n",
       "      <td>cat</td>\n",
       "      <td>dog</td>\n",
       "    </tr>\n",
       "    <tr>\n",
       "      <th>1</th>\n",
       "      <td>dog</td>\n",
       "      <td>dog</td>\n",
       "      <td>cat</td>\n",
       "      <td>cat</td>\n",
       "      <td>dog</td>\n",
       "    </tr>\n",
       "    <tr>\n",
       "      <th>2</th>\n",
       "      <td>dog</td>\n",
       "      <td>cat</td>\n",
       "      <td>cat</td>\n",
       "      <td>cat</td>\n",
       "      <td>dog</td>\n",
       "    </tr>\n",
       "    <tr>\n",
       "      <th>3</th>\n",
       "      <td>dog</td>\n",
       "      <td>dog</td>\n",
       "      <td>dog</td>\n",
       "      <td>cat</td>\n",
       "      <td>dog</td>\n",
       "    </tr>\n",
       "    <tr>\n",
       "      <th>4</th>\n",
       "      <td>cat</td>\n",
       "      <td>cat</td>\n",
       "      <td>cat</td>\n",
       "      <td>dog</td>\n",
       "      <td>dog</td>\n",
       "    </tr>\n",
       "  </tbody>\n",
       "</table>\n",
       "</div>"
      ],
      "text/plain": [
       "  actual model1 model2 model3 model4\n",
       "0    cat    cat    dog    cat    dog\n",
       "1    dog    dog    cat    cat    dog\n",
       "2    dog    cat    cat    cat    dog\n",
       "3    dog    dog    dog    cat    dog\n",
       "4    cat    cat    cat    dog    dog"
      ]
     },
     "execution_count": 57,
     "metadata": {},
     "output_type": "execute_result"
    }
   ],
   "source": [
    "paws_df = pd.read_csv('gives_you_paws.csv')\n",
    "paws_df.head()"
   ]
  },
  {
   "cell_type": "code",
   "execution_count": 59,
   "id": "5f918481-e826-4ce8-a617-afcc413d7208",
   "metadata": {
    "tags": []
   },
   "outputs": [
    {
     "data": {
      "text/plain": [
       "0    dog\n",
       "Name: actual, dtype: object"
      ]
     },
     "execution_count": 59,
     "metadata": {},
     "output_type": "execute_result"
    }
   ],
   "source": [
    "paws_df.actual.mode()"
   ]
  },
  {
   "cell_type": "code",
   "execution_count": 61,
   "id": "4521e219-5671-4f35-b630-60a774e0ef96",
   "metadata": {
    "tags": []
   },
   "outputs": [
    {
     "data": {
      "text/plain": [
       "actual\n",
       "dog    3254\n",
       "cat    1746\n",
       "Name: count, dtype: int64"
      ]
     },
     "execution_count": 61,
     "metadata": {},
     "output_type": "execute_result"
    }
   ],
   "source": [
    "paws_df.actual.value_counts()"
   ]
  },
  {
   "cell_type": "code",
   "execution_count": 62,
   "id": "a6ec63b0-65c7-42b9-9d18-961039e5bd76",
   "metadata": {
    "tags": []
   },
   "outputs": [
    {
     "name": "stdout",
     "output_type": "stream",
     "text": [
      "Baseline Accuracy: 0.6508\n"
     ]
    }
   ],
   "source": [
    "baseline_accuracy = 3254 / (3254 + 1746)\n",
    "print(\"Baseline Accuracy:\", baseline_accuracy)"
   ]
  },
  {
   "cell_type": "markdown",
   "id": "df10f84d-0461-44d7-b533-97f987af5b93",
   "metadata": {},
   "source": [
    "**A. In terms of accuracy, how do the various models compare to the baseline model? Are any of the models better than the baseline?**"
   ]
  },
  {
   "cell_type": "code",
   "execution_count": 66,
   "id": "62fdb142-4734-4a28-969e-93f12de7e47f",
   "metadata": {
    "tags": []
   },
   "outputs": [
    {
     "data": {
      "text/html": [
       "<div>\n",
       "<style scoped>\n",
       "    .dataframe tbody tr th:only-of-type {\n",
       "        vertical-align: middle;\n",
       "    }\n",
       "\n",
       "    .dataframe tbody tr th {\n",
       "        vertical-align: top;\n",
       "    }\n",
       "\n",
       "    .dataframe thead th {\n",
       "        text-align: right;\n",
       "    }\n",
       "</style>\n",
       "<table border=\"1\" class=\"dataframe\">\n",
       "  <thead>\n",
       "    <tr style=\"text-align: right;\">\n",
       "      <th>model1</th>\n",
       "      <th>cat</th>\n",
       "      <th>dog</th>\n",
       "    </tr>\n",
       "    <tr>\n",
       "      <th>actual</th>\n",
       "      <th></th>\n",
       "      <th></th>\n",
       "    </tr>\n",
       "  </thead>\n",
       "  <tbody>\n",
       "    <tr>\n",
       "      <th>cat</th>\n",
       "      <td>1423</td>\n",
       "      <td>323</td>\n",
       "    </tr>\n",
       "    <tr>\n",
       "      <th>dog</th>\n",
       "      <td>640</td>\n",
       "      <td>2614</td>\n",
       "    </tr>\n",
       "  </tbody>\n",
       "</table>\n",
       "</div>"
      ],
      "text/plain": [
       "model1   cat   dog\n",
       "actual            \n",
       "cat     1423   323\n",
       "dog      640  2614"
      ]
     },
     "execution_count": 66,
     "metadata": {},
     "output_type": "execute_result"
    }
   ],
   "source": [
    "paw1_counts = pd.crosstab(paws_df.actual, paws_df.model1)\n",
    "tp1 = paw1_counts.iloc[1,1] #rows, columns\n",
    "fn1 = paw1_counts.iloc[1,0]\n",
    "fp1 = paw1_counts.iloc[0,1]\n",
    "tn1 = paw1_counts.iloc[0,0]\n",
    "paw1_counts"
   ]
  },
  {
   "cell_type": "code",
   "execution_count": 67,
   "id": "eb41ca32-973b-4498-a0e2-e0536181c09c",
   "metadata": {
    "tags": []
   },
   "outputs": [
    {
     "data": {
      "text/html": [
       "<div>\n",
       "<style scoped>\n",
       "    .dataframe tbody tr th:only-of-type {\n",
       "        vertical-align: middle;\n",
       "    }\n",
       "\n",
       "    .dataframe tbody tr th {\n",
       "        vertical-align: top;\n",
       "    }\n",
       "\n",
       "    .dataframe thead th {\n",
       "        text-align: right;\n",
       "    }\n",
       "</style>\n",
       "<table border=\"1\" class=\"dataframe\">\n",
       "  <thead>\n",
       "    <tr style=\"text-align: right;\">\n",
       "      <th>model2</th>\n",
       "      <th>cat</th>\n",
       "      <th>dog</th>\n",
       "    </tr>\n",
       "    <tr>\n",
       "      <th>actual</th>\n",
       "      <th></th>\n",
       "      <th></th>\n",
       "    </tr>\n",
       "  </thead>\n",
       "  <tbody>\n",
       "    <tr>\n",
       "      <th>cat</th>\n",
       "      <td>1555</td>\n",
       "      <td>191</td>\n",
       "    </tr>\n",
       "    <tr>\n",
       "      <th>dog</th>\n",
       "      <td>1657</td>\n",
       "      <td>1597</td>\n",
       "    </tr>\n",
       "  </tbody>\n",
       "</table>\n",
       "</div>"
      ],
      "text/plain": [
       "model2   cat   dog\n",
       "actual            \n",
       "cat     1555   191\n",
       "dog     1657  1597"
      ]
     },
     "execution_count": 67,
     "metadata": {},
     "output_type": "execute_result"
    }
   ],
   "source": [
    "paw2_counts = pd.crosstab(paws_df.actual, paws_df.model2)\n",
    "tp2 = paw2_counts.iloc[1,1] #rows, columns\n",
    "fn2 = paw2_counts.iloc[1,0]\n",
    "fp2 = paw2_counts.iloc[0,1]\n",
    "tn2 = paw2_counts.iloc[0,0]\n",
    "paw2_counts"
   ]
  },
  {
   "cell_type": "code",
   "execution_count": 68,
   "id": "3cedc974-bd03-47ff-a1c6-286cb64bfa50",
   "metadata": {
    "tags": []
   },
   "outputs": [
    {
     "data": {
      "text/html": [
       "<div>\n",
       "<style scoped>\n",
       "    .dataframe tbody tr th:only-of-type {\n",
       "        vertical-align: middle;\n",
       "    }\n",
       "\n",
       "    .dataframe tbody tr th {\n",
       "        vertical-align: top;\n",
       "    }\n",
       "\n",
       "    .dataframe thead th {\n",
       "        text-align: right;\n",
       "    }\n",
       "</style>\n",
       "<table border=\"1\" class=\"dataframe\">\n",
       "  <thead>\n",
       "    <tr style=\"text-align: right;\">\n",
       "      <th>model3</th>\n",
       "      <th>cat</th>\n",
       "      <th>dog</th>\n",
       "    </tr>\n",
       "    <tr>\n",
       "      <th>actual</th>\n",
       "      <th></th>\n",
       "      <th></th>\n",
       "    </tr>\n",
       "  </thead>\n",
       "  <tbody>\n",
       "    <tr>\n",
       "      <th>cat</th>\n",
       "      <td>893</td>\n",
       "      <td>853</td>\n",
       "    </tr>\n",
       "    <tr>\n",
       "      <th>dog</th>\n",
       "      <td>1599</td>\n",
       "      <td>1655</td>\n",
       "    </tr>\n",
       "  </tbody>\n",
       "</table>\n",
       "</div>"
      ],
      "text/plain": [
       "model3   cat   dog\n",
       "actual            \n",
       "cat      893   853\n",
       "dog     1599  1655"
      ]
     },
     "execution_count": 68,
     "metadata": {},
     "output_type": "execute_result"
    }
   ],
   "source": [
    "paw3_counts = pd.crosstab(paws_df.actual, paws_df.model3)\n",
    "tp3 = paw3_counts.iloc[1,1] #rows, columns\n",
    "fn3 = paw3_counts.iloc[1,0]\n",
    "fp3 = paw3_counts.iloc[0,1]\n",
    "tn3 = paw3_counts.iloc[0,0]\n",
    "paw3_counts"
   ]
  },
  {
   "cell_type": "code",
   "execution_count": 69,
   "id": "e0e7ea56-bd98-4539-bdd2-bfa2f304e9ca",
   "metadata": {
    "tags": []
   },
   "outputs": [
    {
     "data": {
      "text/html": [
       "<div>\n",
       "<style scoped>\n",
       "    .dataframe tbody tr th:only-of-type {\n",
       "        vertical-align: middle;\n",
       "    }\n",
       "\n",
       "    .dataframe tbody tr th {\n",
       "        vertical-align: top;\n",
       "    }\n",
       "\n",
       "    .dataframe thead th {\n",
       "        text-align: right;\n",
       "    }\n",
       "</style>\n",
       "<table border=\"1\" class=\"dataframe\">\n",
       "  <thead>\n",
       "    <tr style=\"text-align: right;\">\n",
       "      <th>model4</th>\n",
       "      <th>cat</th>\n",
       "      <th>dog</th>\n",
       "    </tr>\n",
       "    <tr>\n",
       "      <th>actual</th>\n",
       "      <th></th>\n",
       "      <th></th>\n",
       "    </tr>\n",
       "  </thead>\n",
       "  <tbody>\n",
       "    <tr>\n",
       "      <th>cat</th>\n",
       "      <td>603</td>\n",
       "      <td>1143</td>\n",
       "    </tr>\n",
       "    <tr>\n",
       "      <th>dog</th>\n",
       "      <td>144</td>\n",
       "      <td>3110</td>\n",
       "    </tr>\n",
       "  </tbody>\n",
       "</table>\n",
       "</div>"
      ],
      "text/plain": [
       "model4  cat   dog\n",
       "actual           \n",
       "cat     603  1143\n",
       "dog     144  3110"
      ]
     },
     "execution_count": 69,
     "metadata": {},
     "output_type": "execute_result"
    }
   ],
   "source": [
    "paw4_counts = pd.crosstab(paws_df.actual, paws_df.model4)\n",
    "tp4 = paw4_counts.iloc[1,1] #rows, columns\n",
    "fn4 = paw4_counts.iloc[1,0]\n",
    "fp4 = paw4_counts.iloc[0,1]\n",
    "tn4 = paw4_counts.iloc[0,0]\n",
    "paw4_counts"
   ]
  },
  {
   "cell_type": "code",
   "execution_count": 71,
   "id": "c7e2bdfc-dadf-4ab3-8f5a-5d2fd01a93b1",
   "metadata": {
    "tags": []
   },
   "outputs": [
    {
     "name": "stdout",
     "output_type": "stream",
     "text": [
      "Model 1 -  0.8074\n",
      "Model 2 -  0.6304\n",
      "Model 3 -  0.5096\n",
      "Model 4 -  0.7426\n"
     ]
    }
   ],
   "source": [
    "model1_test = (tp1 + tn1) / (tp1 + tn1 + fp1 + fn1)\n",
    "print('Model 1 - ',model1_test)\n",
    "model2_test = (tp2 + tn2) / (tp2 + tn2 + fp2 + fn2)\n",
    "print('Model 2 - ',model2_test)\n",
    "model3_test = (tp3 + tn3) / (tp3 + tn3 + fp3 + fn3)\n",
    "print('Model 3 - ',model3_test)\n",
    "model4_test = (tp4 + tn4) / (tp4 + tn4 + fp4 + fn4)\n",
    "print('Model 4 - ',model4_test)"
   ]
  },
  {
   "cell_type": "markdown",
   "id": "ba7e67d0-91e6-424e-b785-6ce124b063d0",
   "metadata": {},
   "source": [
    "**B. Suppose you are working on a team that solely deals with dog pictures. Which of these models would you recommend?**"
   ]
  },
  {
   "cell_type": "code",
   "execution_count": 73,
   "id": "24eb9329-bbcb-447a-b94c-0b7fece1fe58",
   "metadata": {
    "tags": []
   },
   "outputs": [
    {
     "name": "stdout",
     "output_type": "stream",
     "text": [
      "Model 1 -  0.803318992009834\n",
      "Model 2 -  0.49078057775046097\n",
      "Model 3 -  0.5086047940995697\n",
      "Model 4 -  0.9557467732022127\n"
     ]
    }
   ],
   "source": [
    "model1_test = tp1 / (tp1+fn1)\n",
    "print('Model 1 - ',model1_test)\n",
    "model2_test = tp2 / (tp2+fn2)\n",
    "print('Model 2 - ',model2_test)\n",
    "model3_test = (tp3 / (tp3+fn3))\n",
    "print('Model 3 - ',model3_test)\n",
    "model4_test = (tp4 / (tp4+fn4))\n",
    "print('Model 4 - ',model4_test)\n",
    "#model 4"
   ]
  },
  {
   "cell_type": "markdown",
   "id": "c1b739b3-3baa-4bed-afd0-4f9dee373cc0",
   "metadata": {},
   "source": [
    "**C. Suppose you are working on a team that solely deals with cat pictures. Which of these models would you recommend?**"
   ]
  },
  {
   "cell_type": "code",
   "execution_count": 74,
   "id": "c0647c07-4817-413c-b5b9-d86622e2134a",
   "metadata": {
    "tags": []
   },
   "outputs": [
    {
     "name": "stdout",
     "output_type": "stream",
     "text": [
      "Model 1 -  0.803318992009834\n",
      "Model 2 -  0.49078057775046097\n",
      "Model 3 -  0.5086047940995697\n",
      "Model 4 -  0.9557467732022127\n"
     ]
    }
   ],
   "source": [
    "model1_test = tp1 / (tp1+fn1)\n",
    "print('Model 1 - ',model1_test)\n",
    "model2_test = tp2 / (tp2+fn2)\n",
    "print('Model 2 - ',model2_test)\n",
    "model3_test = (tp3 / (tp3+fn3))\n",
    "print('Model 3 - ',model3_test)\n",
    "model4_test = (tp4 / (tp4+fn4))\n",
    "print('Model 4 - ',model4_test)\n",
    "#model 2"
   ]
  },
  {
   "cell_type": "markdown",
   "id": "9af6ea0e-9d88-4bb2-98b3-c73321fd96f4",
   "metadata": {},
   "source": [
    "**Follow the links below to read the documentation about each function, then apply those functions to the data from the previous problem.**"
   ]
  },
  {
   "cell_type": "code",
   "execution_count": 77,
   "id": "51bb6176-e9db-43d6-a8b2-bb1465a1e96a",
   "metadata": {
    "tags": []
   },
   "outputs": [],
   "source": [
    "from sklearn.metrics import *"
   ]
  },
  {
   "cell_type": "markdown",
   "id": "8351f10c-3cc9-4769-9655-27ada1d6bb4d",
   "metadata": {},
   "source": [
    "* sklearn.metrics.accuracy_score"
   ]
  },
  {
   "cell_type": "code",
   "execution_count": 103,
   "id": "4e3f939f-cdeb-438f-b78d-a3eb2aa1b03f",
   "metadata": {
    "tags": []
   },
   "outputs": [
    {
     "name": "stdout",
     "output_type": "stream",
     "text": [
      "model1 0.8074\n",
      "model2 0.6304\n",
      "model3 0.5096\n",
      "model4 0.7426\n"
     ]
    }
   ],
   "source": [
    "accuracy_score(paws_df.actual, paws_df.model1)\n",
    "for i in range (1,5):\n",
    "    model_name = f'model{i}'\n",
    "    print(model_name, accuracy_score(paws_df.actual, paws_df[model_name]))"
   ]
  },
  {
   "cell_type": "markdown",
   "id": "4e2ad00a-fd8e-4f6d-b783-4279a21bc918",
   "metadata": {},
   "source": [
    "* sklearn.metrics.precision_score"
   ]
  },
  {
   "cell_type": "code",
   "execution_count": 107,
   "id": "2e5fe382-94ed-440d-8b3e-a4df44769f80",
   "metadata": {
    "tags": []
   },
   "outputs": [
    {
     "data": {
      "text/plain": [
       "0.6897721764420747"
      ]
     },
     "execution_count": 107,
     "metadata": {},
     "output_type": "execute_result"
    }
   ],
   "source": [
    "precision_score(paws_df.actual, paws_df.model1, pos_label='cat')"
   ]
  },
  {
   "cell_type": "markdown",
   "id": "a5facd40-fd56-4885-b41d-453fb68f05e4",
   "metadata": {},
   "source": [
    "* sklearn.metrics.recall_score"
   ]
  },
  {
   "cell_type": "code",
   "execution_count": 108,
   "id": "007525a9-041d-4c25-8252-f5a635a56ac7",
   "metadata": {
    "tags": []
   },
   "outputs": [
    {
     "data": {
      "text/plain": [
       "0.803318992009834"
      ]
     },
     "execution_count": 108,
     "metadata": {},
     "output_type": "execute_result"
    }
   ],
   "source": [
    "recall_score(paws_df.actual, paws_df.model1, pos_label='dog')"
   ]
  },
  {
   "cell_type": "markdown",
   "id": "5d5fa0f9-0c3a-4195-abc5-baf2b6134b49",
   "metadata": {},
   "source": [
    "* sklearn.metrics.classification_report"
   ]
  },
  {
   "cell_type": "code",
   "execution_count": 104,
   "id": "6ee01e1d-e3b5-4c3a-b757-45e4108bdb70",
   "metadata": {
    "tags": []
   },
   "outputs": [
    {
     "name": "stdout",
     "output_type": "stream",
     "text": [
      "model1               precision    recall  f1-score   support\n",
      "\n",
      "         cat       0.69      0.82      0.75      1746\n",
      "         dog       0.89      0.80      0.84      3254\n",
      "\n",
      "    accuracy                           0.81      5000\n",
      "   macro avg       0.79      0.81      0.80      5000\n",
      "weighted avg       0.82      0.81      0.81      5000\n",
      "\n",
      "model2               precision    recall  f1-score   support\n",
      "\n",
      "         cat       0.48      0.89      0.63      1746\n",
      "         dog       0.89      0.49      0.63      3254\n",
      "\n",
      "    accuracy                           0.63      5000\n",
      "   macro avg       0.69      0.69      0.63      5000\n",
      "weighted avg       0.75      0.63      0.63      5000\n",
      "\n",
      "model3               precision    recall  f1-score   support\n",
      "\n",
      "         cat       0.36      0.51      0.42      1746\n",
      "         dog       0.66      0.51      0.57      3254\n",
      "\n",
      "    accuracy                           0.51      5000\n",
      "   macro avg       0.51      0.51      0.50      5000\n",
      "weighted avg       0.55      0.51      0.52      5000\n",
      "\n",
      "model4               precision    recall  f1-score   support\n",
      "\n",
      "         cat       0.81      0.35      0.48      1746\n",
      "         dog       0.73      0.96      0.83      3254\n",
      "\n",
      "    accuracy                           0.74      5000\n",
      "   macro avg       0.77      0.65      0.66      5000\n",
      "weighted avg       0.76      0.74      0.71      5000\n",
      "\n"
     ]
    }
   ],
   "source": [
    "for i in range (1,5):\n",
    "    model_name = f'model{i}'\n",
    "    print(model_name, classification_report(paws_df.actual, paws_df[model_name]))"
   ]
  },
  {
   "cell_type": "code",
   "execution_count": null,
   "id": "e3372d4f-8306-40df-9b5e-86f9075440aa",
   "metadata": {},
   "outputs": [],
   "source": []
  }
 ],
 "metadata": {
  "kernelspec": {
   "display_name": "Python 3 (ipykernel)",
   "language": "python",
   "name": "python3"
  },
  "language_info": {
   "codemirror_mode": {
    "name": "ipython",
    "version": 3
   },
   "file_extension": ".py",
   "mimetype": "text/x-python",
   "name": "python",
   "nbconvert_exporter": "python",
   "pygments_lexer": "ipython3",
   "version": "3.11.5"
  }
 },
 "nbformat": 4,
 "nbformat_minor": 5
}
