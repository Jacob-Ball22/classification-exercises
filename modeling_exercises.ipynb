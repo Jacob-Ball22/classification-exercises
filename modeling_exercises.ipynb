{
 "cells": [
  {
   "cell_type": "code",
   "execution_count": 102,
   "id": "4fdb4b98-dcb8-4f80-a57c-6491c800f7fe",
   "metadata": {
    "tags": []
   },
   "outputs": [],
   "source": [
    "import acquire as a\n",
    "import prepare as p\n",
    "\n",
    "import numpy as np\n",
    "import pandas as pd\n",
    "\n",
    "from sklearn.metrics import accuracy_score, classification_report\n",
    "from sklearn.tree import DecisionTreeClassifier, \\\n",
    "export_text, plot_tree\n",
    "from sklearn.ensemble import RandomForestClassifier\n",
    "from sklearn.linear_model import LogisticRegression\n",
    "from sklearn.neighbors import KNeighborsClassifier"
   ]
  },
  {
   "cell_type": "code",
   "execution_count": 103,
   "id": "ba4b6cc9-de5c-43f9-af44-1a2ab8cde72f",
   "metadata": {
    "tags": []
   },
   "outputs": [],
   "source": [
    "def preprocess_titanic(train_df, val_df, test_df):\n",
    "    '''\n",
    "    preprocess_titanic will take in three pandas dataframes\n",
    "    of our titanic data, expected as cleaned versions of this \n",
    "    titanic data set (see documentation on acquire.py and prepare.py)\n",
    "    \n",
    "    output:\n",
    "    encoded, ML-ready versions of our clean data, with \n",
    "    columns sex and embark_town encoded in the one-hot fashion\n",
    "    return: (pd.DataFrame, pd.DataFrame, pd.DataFrame)\n",
    "    '''\n",
    "    # with a looping structure:\n",
    "    # for df in [train_df, val_df, test_df]:\n",
    "    #     df.drop(blah blah blah)\n",
    "    #     df['pclass'] = df['pclass'].astype(int)\n",
    "    train_df = train_df.drop(columns='passenger_id')\n",
    "    train_df['pclass'] = train_df['pclass'].astype(int)\n",
    "    val_df = val_df.drop(columns='passenger_id')\n",
    "    val_df['pclass'] = val_df['pclass'].astype(int)\n",
    "    test_df = test_df.drop(columns='passenger_id')\n",
    "    test_df['pclass'] = test_df['pclass'].astype(int)\n",
    "    encoding_var = ['sex', 'embark_town']\n",
    "    encoded_dfs = []\n",
    "    for df in [train_df, val_df, test_df]:\n",
    "        df_encoded_cats = pd.get_dummies(\n",
    "            df[['embark_town', 'sex']],\n",
    "              drop_first=True).astype(int)\n",
    "        encoded_dfs.append(pd.concat(\n",
    "            [df,\n",
    "            df_encoded_cats],\n",
    "            axis=1).drop(columns=['sex', 'embark_town']))\n",
    "    return encoded_dfs"
   ]
  },
  {
   "cell_type": "code",
   "execution_count": 104,
   "id": "c54c9667-d4df-4dd5-a0ad-4404ff1159eb",
   "metadata": {
    "tags": []
   },
   "outputs": [],
   "source": [
    "#grab, clean, and process data"
   ]
  },
  {
   "cell_type": "code",
   "execution_count": 105,
   "id": "d9f441ac-6e29-4e2b-89fa-e127c5e32b4b",
   "metadata": {
    "tags": []
   },
   "outputs": [
    {
     "name": "stdout",
     "output_type": "stream",
     "text": [
      "this file exists, reading from csv\n"
     ]
    }
   ],
   "source": [
    "train, val, test = p.split_data(p.prep_titanic(),'survived')"
   ]
  },
  {
   "cell_type": "code",
   "execution_count": 106,
   "id": "cf7dbcd6-53f8-4754-a233-c7b0339e5b09",
   "metadata": {
    "tags": []
   },
   "outputs": [],
   "source": [
    "train_encoded, val_encoded, test_encoded = preprocess_titanic(train, val, test)"
   ]
  },
  {
   "cell_type": "code",
   "execution_count": 107,
   "id": "15a3056a-dbd9-4db3-973b-049ebdcf6a78",
   "metadata": {
    "tags": []
   },
   "outputs": [
    {
     "data": {
      "text/html": [
       "<div>\n",
       "<style scoped>\n",
       "    .dataframe tbody tr th:only-of-type {\n",
       "        vertical-align: middle;\n",
       "    }\n",
       "\n",
       "    .dataframe tbody tr th {\n",
       "        vertical-align: top;\n",
       "    }\n",
       "\n",
       "    .dataframe thead th {\n",
       "        text-align: right;\n",
       "    }\n",
       "</style>\n",
       "<table border=\"1\" class=\"dataframe\">\n",
       "  <thead>\n",
       "    <tr style=\"text-align: right;\">\n",
       "      <th></th>\n",
       "      <th>survived</th>\n",
       "      <th>pclass</th>\n",
       "      <th>sibsp</th>\n",
       "      <th>parch</th>\n",
       "      <th>fare</th>\n",
       "      <th>alone</th>\n",
       "      <th>embark_town_Queenstown</th>\n",
       "      <th>embark_town_Southampton</th>\n",
       "      <th>sex_male</th>\n",
       "    </tr>\n",
       "  </thead>\n",
       "  <tbody>\n",
       "    <tr>\n",
       "      <th>776</th>\n",
       "      <td>0</td>\n",
       "      <td>3</td>\n",
       "      <td>0</td>\n",
       "      <td>0</td>\n",
       "      <td>7.7500</td>\n",
       "      <td>1</td>\n",
       "      <td>1</td>\n",
       "      <td>0</td>\n",
       "      <td>1</td>\n",
       "    </tr>\n",
       "    <tr>\n",
       "      <th>829</th>\n",
       "      <td>1</td>\n",
       "      <td>1</td>\n",
       "      <td>0</td>\n",
       "      <td>0</td>\n",
       "      <td>80.0000</td>\n",
       "      <td>1</td>\n",
       "      <td>0</td>\n",
       "      <td>1</td>\n",
       "      <td>0</td>\n",
       "    </tr>\n",
       "    <tr>\n",
       "      <th>215</th>\n",
       "      <td>1</td>\n",
       "      <td>1</td>\n",
       "      <td>1</td>\n",
       "      <td>0</td>\n",
       "      <td>113.2750</td>\n",
       "      <td>0</td>\n",
       "      <td>0</td>\n",
       "      <td>0</td>\n",
       "      <td>0</td>\n",
       "    </tr>\n",
       "    <tr>\n",
       "      <th>258</th>\n",
       "      <td>1</td>\n",
       "      <td>1</td>\n",
       "      <td>0</td>\n",
       "      <td>0</td>\n",
       "      <td>512.3292</td>\n",
       "      <td>1</td>\n",
       "      <td>0</td>\n",
       "      <td>0</td>\n",
       "      <td>0</td>\n",
       "    </tr>\n",
       "    <tr>\n",
       "      <th>129</th>\n",
       "      <td>0</td>\n",
       "      <td>3</td>\n",
       "      <td>0</td>\n",
       "      <td>0</td>\n",
       "      <td>6.9750</td>\n",
       "      <td>1</td>\n",
       "      <td>0</td>\n",
       "      <td>1</td>\n",
       "      <td>1</td>\n",
       "    </tr>\n",
       "  </tbody>\n",
       "</table>\n",
       "</div>"
      ],
      "text/plain": [
       "     survived  pclass  sibsp  parch      fare  alone  embark_town_Queenstown  \\\n",
       "776         0       3      0      0    7.7500      1                       1   \n",
       "829         1       1      0      0   80.0000      1                       0   \n",
       "215         1       1      1      0  113.2750      0                       0   \n",
       "258         1       1      0      0  512.3292      1                       0   \n",
       "129         0       3      0      0    6.9750      1                       0   \n",
       "\n",
       "     embark_town_Southampton  sex_male  \n",
       "776                        0         1  \n",
       "829                        1         0  \n",
       "215                        0         0  \n",
       "258                        0         0  \n",
       "129                        1         1  "
      ]
     },
     "execution_count": 107,
     "metadata": {},
     "output_type": "execute_result"
    }
   ],
   "source": [
    "train_encoded.head()"
   ]
  },
  {
   "cell_type": "markdown",
   "id": "63db4244-cee4-4be0-9517-c83869269f5c",
   "metadata": {},
   "source": [
    "**1. What is your baseline prediction? What is your baseline accuracy? remember: your baseline prediction for a classification problem is predicting the most prevelant class in the training dataset (the mode). When you make those predictions, what is your accuracy? This is your baseline accuracy.**"
   ]
  },
  {
   "cell_type": "code",
   "execution_count": 108,
   "id": "fe233513-9ff4-41e1-88bd-c00ce2faeb85",
   "metadata": {
    "tags": []
   },
   "outputs": [],
   "source": [
    "X_train, y_train = train_encoded.drop(columns='survived'), train_encoded.survived"
   ]
  },
  {
   "cell_type": "code",
   "execution_count": 109,
   "id": "6ac72369-65eb-4c44-8c25-2336d4f295ac",
   "metadata": {
    "tags": []
   },
   "outputs": [],
   "source": [
    "X_validate, y_validate = val_encoded.drop(columns='survived'), val_encoded.survived"
   ]
  },
  {
   "cell_type": "code",
   "execution_count": 110,
   "id": "1dfdd302-28ab-4382-985b-24b5d5d2a68f",
   "metadata": {
    "tags": []
   },
   "outputs": [],
   "source": [
    "X_test, y_test = test_encoded.drop(columns='survived'), test_encoded.survived"
   ]
  },
  {
   "cell_type": "code",
   "execution_count": 111,
   "id": "cc067b95-fcac-4965-b011-73f9f0c348e8",
   "metadata": {
    "tags": []
   },
   "outputs": [
    {
     "data": {
      "text/plain": [
       "Index(['pclass', 'sibsp', 'parch', 'fare', 'alone', 'embark_town_Queenstown',\n",
       "       'embark_town_Southampton', 'sex_male'],\n",
       "      dtype='object')"
      ]
     },
     "execution_count": 111,
     "metadata": {},
     "output_type": "execute_result"
    }
   ],
   "source": [
    "X_train.columns"
   ]
  },
  {
   "cell_type": "code",
   "execution_count": 112,
   "id": "0d9f06a3-b8f2-4cab-af2b-5d2225ce1bd8",
   "metadata": {
    "tags": []
   },
   "outputs": [
    {
     "data": {
      "text/plain": [
       "776    0\n",
       "829    1\n",
       "215    1\n",
       "258    1\n",
       "129    0\n",
       "Name: survived, dtype: int64"
      ]
     },
     "execution_count": 112,
     "metadata": {},
     "output_type": "execute_result"
    }
   ],
   "source": [
    "y_train.head()"
   ]
  },
  {
   "cell_type": "code",
   "execution_count": 113,
   "id": "5678813b-102b-42b4-8dec-ccba2652b9b0",
   "metadata": {
    "tags": []
   },
   "outputs": [
    {
     "data": {
      "text/plain": [
       "array([0, 1, 1, 1, 0, 0, 1, 0, 1, 0])"
      ]
     },
     "execution_count": 113,
     "metadata": {},
     "output_type": "execute_result"
    }
   ],
   "source": [
    "clf = DecisionTreeClassifier(max_depth=3, min_samples_leaf=10)\n",
    "clf\n",
    "#fit the model with the values\n",
    "clf.fit(X_train, y_train)\n",
    "#predict the next 10 values\n",
    "clf.predict(X_train)[:10]"
   ]
  },
  {
   "cell_type": "code",
   "execution_count": 114,
   "id": "d4a68dab-5e8b-4dd3-9ee6-e9e69b48d328",
   "metadata": {
    "tags": []
   },
   "outputs": [
    {
     "data": {
      "text/plain": [
       "survived\n",
       "0    329\n",
       "1    205\n",
       "Name: count, dtype: int64"
      ]
     },
     "execution_count": 114,
     "metadata": {},
     "output_type": "execute_result"
    }
   ],
   "source": [
    "#get the mode (the highest value)\n",
    "train_encoded.survived.value_counts()"
   ]
  },
  {
   "cell_type": "code",
   "execution_count": 49,
   "id": "ffb355d6-7e5e-4003-9a93-37bdd4542e4b",
   "metadata": {
    "tags": []
   },
   "outputs": [
    {
     "data": {
      "text/html": [
       "<div>\n",
       "<style scoped>\n",
       "    .dataframe tbody tr th:only-of-type {\n",
       "        vertical-align: middle;\n",
       "    }\n",
       "\n",
       "    .dataframe tbody tr th {\n",
       "        vertical-align: top;\n",
       "    }\n",
       "\n",
       "    .dataframe thead th {\n",
       "        text-align: right;\n",
       "    }\n",
       "</style>\n",
       "<table border=\"1\" class=\"dataframe\">\n",
       "  <thead>\n",
       "    <tr style=\"text-align: right;\">\n",
       "      <th></th>\n",
       "      <th>y_true</th>\n",
       "      <th>baseline</th>\n",
       "      <th>dt_one</th>\n",
       "    </tr>\n",
       "  </thead>\n",
       "  <tbody>\n",
       "    <tr>\n",
       "      <th>776</th>\n",
       "      <td>0</td>\n",
       "      <td>0</td>\n",
       "      <td>0</td>\n",
       "    </tr>\n",
       "    <tr>\n",
       "      <th>829</th>\n",
       "      <td>1</td>\n",
       "      <td>0</td>\n",
       "      <td>1</td>\n",
       "    </tr>\n",
       "  </tbody>\n",
       "</table>\n",
       "</div>"
      ],
      "text/plain": [
       "     y_true  baseline  dt_one\n",
       "776       0         0       0\n",
       "829       1         0       1"
      ]
     },
     "execution_count": 49,
     "metadata": {},
     "output_type": "execute_result"
    }
   ],
   "source": [
    "#make the baseline accuracy\n",
    "#'y_true' is the values of our target\n",
    "#'baseline' is the all zero survival prediction\n",
    "#'dt_one' is a new model to compare with\n",
    "\n",
    "y_pred = pd.DataFrame({\n",
    "    'y_true': y_train.values,\n",
    "    'baseline':0,\n",
    "    'dt_one': clf.predict(X_train)\n",
    "}, index=train_encoded.index)\n",
    "y_pred.head(2)"
   ]
  },
  {
   "cell_type": "code",
   "execution_count": 50,
   "id": "05f16f1f-1b99-4d43-a360-bdb2cd6314ce",
   "metadata": {
    "tags": []
   },
   "outputs": [
    {
     "data": {
      "text/plain": [
       "0.6161048689138576"
      ]
     },
     "execution_count": 50,
     "metadata": {},
     "output_type": "execute_result"
    }
   ],
   "source": [
    "#accuracy of our baseline to our y_true\n",
    "baseline_acc = accuracy_score(y_pred.y_true, y_pred.baseline)\n",
    "baseline_acc"
   ]
  },
  {
   "cell_type": "markdown",
   "id": "cc97233f-977d-4f73-8b63-8eba8b27c9d1",
   "metadata": {},
   "source": [
    "**2. Fit the decision tree classifier to your training sample and transform (i.e. make predictions on the training sample)**"
   ]
  },
  {
   "cell_type": "code",
   "execution_count": 51,
   "id": "2935ba3e-6586-4629-b9a0-67b884bae596",
   "metadata": {
    "tags": []
   },
   "outputs": [
    {
     "data": {
      "text/plain": [
       "array([0, 1, 1, 1, 0, 0, 1, 0, 1, 0])"
      ]
     },
     "execution_count": 51,
     "metadata": {},
     "output_type": "execute_result"
    }
   ],
   "source": [
    "clf.fit(X_train, y_train)\n",
    "clf.predict(X_train)[:10]"
   ]
  },
  {
   "cell_type": "code",
   "execution_count": 93,
   "id": "bd9a440c-2cd1-4e49-9239-81168ceddd70",
   "metadata": {
    "tags": []
   },
   "outputs": [
    {
     "data": {
      "text/plain": [
       "0.8146067415730337"
      ]
     },
     "execution_count": 93,
     "metadata": {},
     "output_type": "execute_result"
    }
   ],
   "source": [
    "clf.score(X_train, y_train)"
   ]
  },
  {
   "cell_type": "markdown",
   "id": "f2343815-dca5-4df7-be86-e2b980f2cdf4",
   "metadata": {},
   "source": [
    "**3. Evaluate your in-sample results using the model score, confusion matrix, and classification report.**"
   ]
  },
  {
   "cell_type": "code",
   "execution_count": 120,
   "id": "60e38b31-af45-4dca-a57f-0fd5d4530f1f",
   "metadata": {
    "tags": []
   },
   "outputs": [
    {
     "data": {
      "text/plain": [
       "0.8146067415730337"
      ]
     },
     "execution_count": 120,
     "metadata": {},
     "output_type": "execute_result"
    }
   ],
   "source": [
    "#model score\n",
    "clf.score(X_train, y_train)"
   ]
  },
  {
   "cell_type": "code",
   "execution_count": 117,
   "id": "26d9edce-953e-4479-af89-8729f0a32786",
   "metadata": {
    "tags": []
   },
   "outputs": [
    {
     "data": {
      "text/html": [
       "<div>\n",
       "<style scoped>\n",
       "    .dataframe tbody tr th:only-of-type {\n",
       "        vertical-align: middle;\n",
       "    }\n",
       "\n",
       "    .dataframe tbody tr th {\n",
       "        vertical-align: top;\n",
       "    }\n",
       "\n",
       "    .dataframe thead th {\n",
       "        text-align: right;\n",
       "    }\n",
       "</style>\n",
       "<table border=\"1\" class=\"dataframe\">\n",
       "  <thead>\n",
       "    <tr style=\"text-align: right;\">\n",
       "      <th>dt_one</th>\n",
       "      <th>0</th>\n",
       "      <th>1</th>\n",
       "    </tr>\n",
       "    <tr>\n",
       "      <th>survived</th>\n",
       "      <th></th>\n",
       "      <th></th>\n",
       "    </tr>\n",
       "  </thead>\n",
       "  <tbody>\n",
       "    <tr>\n",
       "      <th>0</th>\n",
       "      <td>293</td>\n",
       "      <td>36</td>\n",
       "    </tr>\n",
       "    <tr>\n",
       "      <th>1</th>\n",
       "      <td>63</td>\n",
       "      <td>142</td>\n",
       "    </tr>\n",
       "  </tbody>\n",
       "</table>\n",
       "</div>"
      ],
      "text/plain": [
       "dt_one      0    1\n",
       "survived          \n",
       "0         293   36\n",
       "1          63  142"
      ]
     },
     "execution_count": 117,
     "metadata": {},
     "output_type": "execute_result"
    }
   ],
   "source": [
    "survived_counts = pd.crosstab(y_train, y_pred.dt_one)\n",
    "survived_counts"
   ]
  },
  {
   "cell_type": "code",
   "execution_count": 53,
   "id": "91a764f7-96c0-40a7-bd0e-7a9be8e82923",
   "metadata": {
    "tags": []
   },
   "outputs": [
    {
     "name": "stdout",
     "output_type": "stream",
     "text": [
      "              precision    recall  f1-score   support\n",
      "\n",
      "           0       0.82      0.89      0.86       329\n",
      "           1       0.80      0.69      0.74       205\n",
      "\n",
      "    accuracy                           0.81       534\n",
      "   macro avg       0.81      0.79      0.80       534\n",
      "weighted avg       0.81      0.81      0.81       534\n",
      "\n"
     ]
    }
   ],
   "source": [
    "print(classification_report(y_train, y_pred.dt_one))"
   ]
  },
  {
   "cell_type": "markdown",
   "id": "ce78941e-c15e-400a-b5f6-126b3caf7f9d",
   "metadata": {},
   "source": [
    "**4. Compute: Accuracy, true positive rate, false positive rate, true negative rate, false negative rate, precision, recall, f1-score, and support.**"
   ]
  },
  {
   "cell_type": "code",
   "execution_count": 121,
   "id": "187095d2-6763-4740-961a-f9e5069908db",
   "metadata": {
    "tags": []
   },
   "outputs": [
    {
     "data": {
      "text/html": [
       "<div>\n",
       "<style scoped>\n",
       "    .dataframe tbody tr th:only-of-type {\n",
       "        vertical-align: middle;\n",
       "    }\n",
       "\n",
       "    .dataframe tbody tr th {\n",
       "        vertical-align: top;\n",
       "    }\n",
       "\n",
       "    .dataframe thead th {\n",
       "        text-align: right;\n",
       "    }\n",
       "</style>\n",
       "<table border=\"1\" class=\"dataframe\">\n",
       "  <thead>\n",
       "    <tr style=\"text-align: right;\">\n",
       "      <th>dt_one</th>\n",
       "      <th>0</th>\n",
       "      <th>1</th>\n",
       "    </tr>\n",
       "    <tr>\n",
       "      <th>survived</th>\n",
       "      <th></th>\n",
       "      <th></th>\n",
       "    </tr>\n",
       "  </thead>\n",
       "  <tbody>\n",
       "    <tr>\n",
       "      <th>0</th>\n",
       "      <td>0.890578</td>\n",
       "      <td>0.109422</td>\n",
       "    </tr>\n",
       "    <tr>\n",
       "      <th>1</th>\n",
       "      <td>0.307317</td>\n",
       "      <td>0.692683</td>\n",
       "    </tr>\n",
       "  </tbody>\n",
       "</table>\n",
       "</div>"
      ],
      "text/plain": [
       "dt_one           0         1\n",
       "survived                    \n",
       "0         0.890578  0.109422\n",
       "1         0.307317  0.692683"
      ]
     },
     "execution_count": 121,
     "metadata": {},
     "output_type": "execute_result"
    }
   ],
   "source": [
    "pd.crosstab(y_train, y_pred.dt_one, normalize='index')"
   ]
  },
  {
   "cell_type": "code",
   "execution_count": 54,
   "id": "cb9ee954-6941-4791-9ca8-e3de990a2841",
   "metadata": {
    "tags": []
   },
   "outputs": [
    {
     "name": "stdout",
     "output_type": "stream",
     "text": [
      "0.6161048689138576\n",
      "              precision    recall  f1-score   support\n",
      "\n",
      "           0       0.82      0.89      0.86       329\n",
      "           1       0.80      0.69      0.74       205\n",
      "\n",
      "    accuracy                           0.81       534\n",
      "   macro avg       0.81      0.79      0.80       534\n",
      "weighted avg       0.81      0.81      0.81       534\n",
      "\n"
     ]
    }
   ],
   "source": [
    "tp = survived_counts.iloc[0,0]\n",
    "tn = survived_counts.iloc[0,1]\n",
    "fp = survived_counts.iloc[1,0]\n",
    "fn = survived_counts.iloc[1,1]\n",
    "accuracy = (tp + tn) / (tp + tn + fp + fn)\n",
    "print(accuracy)\n",
    "print(classification_report(y_train, y_pred.dt_one))"
   ]
  },
  {
   "cell_type": "markdown",
   "id": "9c070a34-9dd9-4ad9-bd89-92439c643406",
   "metadata": {},
   "source": [
    "**5. Run through steps 2-4 using a different max_depth value.**"
   ]
  },
  {
   "cell_type": "code",
   "execution_count": 55,
   "id": "c36ec493-f3ae-427c-9d79-22a33d7e2eb1",
   "metadata": {
    "tags": []
   },
   "outputs": [
    {
     "data": {
      "text/plain": [
       "array([0, 1, 1, 1, 0, 0, 1, 0, 1, 0])"
      ]
     },
     "execution_count": 55,
     "metadata": {},
     "output_type": "execute_result"
    }
   ],
   "source": [
    "clf2 = DecisionTreeClassifier(max_depth=8, min_samples_leaf=10)\n",
    "clf2\n",
    "#fit the model with the values\n",
    "clf2.fit(X_train, y_train)\n",
    "#predict the next 10 values\n",
    "clf2.predict(X_train)[:10]"
   ]
  },
  {
   "cell_type": "code",
   "execution_count": 61,
   "id": "7f2fa2e3-aa27-4851-985e-a81daddf638b",
   "metadata": {
    "tags": []
   },
   "outputs": [
    {
     "data": {
      "text/plain": [
       "0.8445692883895131"
      ]
     },
     "execution_count": 61,
     "metadata": {},
     "output_type": "execute_result"
    }
   ],
   "source": [
    "clf2.score(X_train, y_train)"
   ]
  },
  {
   "cell_type": "code",
   "execution_count": 56,
   "id": "352062c2-d22a-450e-a0f4-46e09a63624f",
   "metadata": {
    "tags": []
   },
   "outputs": [
    {
     "data": {
      "text/html": [
       "<div>\n",
       "<style scoped>\n",
       "    .dataframe tbody tr th:only-of-type {\n",
       "        vertical-align: middle;\n",
       "    }\n",
       "\n",
       "    .dataframe tbody tr th {\n",
       "        vertical-align: top;\n",
       "    }\n",
       "\n",
       "    .dataframe thead th {\n",
       "        text-align: right;\n",
       "    }\n",
       "</style>\n",
       "<table border=\"1\" class=\"dataframe\">\n",
       "  <thead>\n",
       "    <tr style=\"text-align: right;\">\n",
       "      <th>col_0</th>\n",
       "      <th>0</th>\n",
       "      <th>1</th>\n",
       "    </tr>\n",
       "    <tr>\n",
       "      <th>survived</th>\n",
       "      <th></th>\n",
       "      <th></th>\n",
       "    </tr>\n",
       "  </thead>\n",
       "  <tbody>\n",
       "    <tr>\n",
       "      <th>0</th>\n",
       "      <td>302</td>\n",
       "      <td>27</td>\n",
       "    </tr>\n",
       "    <tr>\n",
       "      <th>1</th>\n",
       "      <td>56</td>\n",
       "      <td>149</td>\n",
       "    </tr>\n",
       "  </tbody>\n",
       "</table>\n",
       "</div>"
      ],
      "text/plain": [
       "col_0       0    1\n",
       "survived          \n",
       "0         302   27\n",
       "1          56  149"
      ]
     },
     "execution_count": 56,
     "metadata": {},
     "output_type": "execute_result"
    }
   ],
   "source": [
    "survived_counts2 = pd.crosstab(y_train, clf2.predict(X_train))\n",
    "survived_counts2"
   ]
  },
  {
   "cell_type": "code",
   "execution_count": 57,
   "id": "b67bc463-0412-46da-bd74-dcef16b4392d",
   "metadata": {
    "tags": []
   },
   "outputs": [
    {
     "name": "stdout",
     "output_type": "stream",
     "text": [
      "              precision    recall  f1-score   support\n",
      "\n",
      "           0       0.84      0.92      0.88       329\n",
      "           1       0.85      0.73      0.78       205\n",
      "\n",
      "    accuracy                           0.84       534\n",
      "   macro avg       0.85      0.82      0.83       534\n",
      "weighted avg       0.84      0.84      0.84       534\n",
      "\n"
     ]
    }
   ],
   "source": [
    "print(classification_report(y_train, clf2.predict(X_train)))"
   ]
  },
  {
   "cell_type": "code",
   "execution_count": 58,
   "id": "73f0cc90-6340-4e8b-8d2c-fccdd0f5cfa8",
   "metadata": {
    "tags": []
   },
   "outputs": [
    {
     "name": "stdout",
     "output_type": "stream",
     "text": [
      "0.6161048689138576\n"
     ]
    }
   ],
   "source": [
    "tp2 = survived_counts2.iloc[0,0]\n",
    "tn2 = survived_counts2.iloc[0,1]\n",
    "fp2 = survived_counts2.iloc[1,0]\n",
    "fn2 = survived_counts2.iloc[1,1]\n",
    "accuracy2 = (tp2 + tn2) / (tp2 + tn2 + fp2 + fn2)\n",
    "print(accuracy2)"
   ]
  },
  {
   "cell_type": "markdown",
   "id": "6b05d308-8d56-4066-8bb7-65d05cebc115",
   "metadata": {},
   "source": [
    "**6. Which model performs better on your in-sample data?**"
   ]
  },
  {
   "cell_type": "code",
   "execution_count": null,
   "id": "2e2ddebe-f515-4cc4-a824-d70363723f70",
   "metadata": {},
   "outputs": [],
   "source": [
    "#The second model had better accuracy from the classification report"
   ]
  },
  {
   "cell_type": "markdown",
   "id": "79c549e1-c0d7-4196-83da-06cd25a0a066",
   "metadata": {},
   "source": [
    "**7. Which model performs best on your out-of-sample data, the validate set?**"
   ]
  },
  {
   "cell_type": "code",
   "execution_count": 67,
   "id": "7a318674-329f-4115-ac6a-5394d075d3c6",
   "metadata": {
    "tags": []
   },
   "outputs": [
    {
     "data": {
      "text/plain": [
       "array([0, 0, 0, 1, 1, 0, 0, 1, 0, 0])"
      ]
     },
     "execution_count": 67,
     "metadata": {},
     "output_type": "execute_result"
    }
   ],
   "source": [
    "clf3 = DecisionTreeClassifier(max_depth=3, min_samples_leaf=10)\n",
    "#fit the model with the values\n",
    "clf3.fit(X_validate, y_validate)\n",
    "#predict the next 10 values\n",
    "clf3.predict(X_validate)[:10]"
   ]
  },
  {
   "cell_type": "code",
   "execution_count": 68,
   "id": "9494327a-56ec-48b2-b018-83bb6f904c9d",
   "metadata": {
    "tags": []
   },
   "outputs": [
    {
     "data": {
      "text/plain": [
       "0.797752808988764"
      ]
     },
     "execution_count": 68,
     "metadata": {},
     "output_type": "execute_result"
    }
   ],
   "source": [
    "clf3.score(X_validate, y_validate)"
   ]
  },
  {
   "cell_type": "code",
   "execution_count": 69,
   "id": "9fa72ace-2793-4eaf-9fc7-7d7439432edd",
   "metadata": {
    "tags": []
   },
   "outputs": [
    {
     "data": {
      "text/html": [
       "<div>\n",
       "<style scoped>\n",
       "    .dataframe tbody tr th:only-of-type {\n",
       "        vertical-align: middle;\n",
       "    }\n",
       "\n",
       "    .dataframe tbody tr th {\n",
       "        vertical-align: top;\n",
       "    }\n",
       "\n",
       "    .dataframe thead th {\n",
       "        text-align: right;\n",
       "    }\n",
       "</style>\n",
       "<table border=\"1\" class=\"dataframe\">\n",
       "  <thead>\n",
       "    <tr style=\"text-align: right;\">\n",
       "      <th>col_0</th>\n",
       "      <th>0</th>\n",
       "      <th>1</th>\n",
       "    </tr>\n",
       "    <tr>\n",
       "      <th>survived</th>\n",
       "      <th></th>\n",
       "      <th></th>\n",
       "    </tr>\n",
       "  </thead>\n",
       "  <tbody>\n",
       "    <tr>\n",
       "      <th>0</th>\n",
       "      <td>93</td>\n",
       "      <td>17</td>\n",
       "    </tr>\n",
       "    <tr>\n",
       "      <th>1</th>\n",
       "      <td>19</td>\n",
       "      <td>49</td>\n",
       "    </tr>\n",
       "  </tbody>\n",
       "</table>\n",
       "</div>"
      ],
      "text/plain": [
       "col_0      0   1\n",
       "survived        \n",
       "0         93  17\n",
       "1         19  49"
      ]
     },
     "execution_count": 69,
     "metadata": {},
     "output_type": "execute_result"
    }
   ],
   "source": [
    "survived_counts3 = pd.crosstab(y_validate, clf3.predict(X_validate))\n",
    "survived_counts3"
   ]
  },
  {
   "cell_type": "code",
   "execution_count": 71,
   "id": "4ffa138d-4740-4d7c-b4e5-7f7751d34550",
   "metadata": {
    "tags": []
   },
   "outputs": [
    {
     "name": "stdout",
     "output_type": "stream",
     "text": [
      "              precision    recall  f1-score   support\n",
      "\n",
      "           0       0.83      0.85      0.84       110\n",
      "           1       0.74      0.72      0.73        68\n",
      "\n",
      "    accuracy                           0.80       178\n",
      "   macro avg       0.79      0.78      0.78       178\n",
      "weighted avg       0.80      0.80      0.80       178\n",
      "\n"
     ]
    }
   ],
   "source": [
    "print(classification_report(y_validate, clf3.predict(X_validate)))"
   ]
  },
  {
   "cell_type": "code",
   "execution_count": 90,
   "id": "9a496360-893f-4381-9736-fcb9f8b29570",
   "metadata": {
    "tags": []
   },
   "outputs": [
    {
     "data": {
      "text/plain": [
       "array([0, 0, 0, 1, 1, 0, 0, 1, 0, 0])"
      ]
     },
     "execution_count": 90,
     "metadata": {},
     "output_type": "execute_result"
    }
   ],
   "source": [
    "clf4 = DecisionTreeClassifier(max_depth=8, min_samples_leaf=10)\n",
    "#fit the model with the values\n",
    "clf4.fit(X_validate, y_validate)\n",
    "#predict the next 10 values\n",
    "clf4.predict(X_validate)[:10]"
   ]
  },
  {
   "cell_type": "code",
   "execution_count": 91,
   "id": "4331e45c-a244-4a4f-8a76-b14ffe55eaf2",
   "metadata": {
    "tags": []
   },
   "outputs": [
    {
     "data": {
      "text/plain": [
       "0.797752808988764"
      ]
     },
     "execution_count": 91,
     "metadata": {},
     "output_type": "execute_result"
    }
   ],
   "source": [
    "clf4.score(X_validate, y_validate)"
   ]
  },
  {
   "cell_type": "code",
   "execution_count": 92,
   "id": "0b97de50-aa05-40fd-b9f4-64a1bf919dd3",
   "metadata": {
    "tags": []
   },
   "outputs": [
    {
     "data": {
      "text/html": [
       "<div>\n",
       "<style scoped>\n",
       "    .dataframe tbody tr th:only-of-type {\n",
       "        vertical-align: middle;\n",
       "    }\n",
       "\n",
       "    .dataframe tbody tr th {\n",
       "        vertical-align: top;\n",
       "    }\n",
       "\n",
       "    .dataframe thead th {\n",
       "        text-align: right;\n",
       "    }\n",
       "</style>\n",
       "<table border=\"1\" class=\"dataframe\">\n",
       "  <thead>\n",
       "    <tr style=\"text-align: right;\">\n",
       "      <th>col_0</th>\n",
       "      <th>0</th>\n",
       "      <th>1</th>\n",
       "    </tr>\n",
       "    <tr>\n",
       "      <th>survived</th>\n",
       "      <th></th>\n",
       "      <th></th>\n",
       "    </tr>\n",
       "  </thead>\n",
       "  <tbody>\n",
       "    <tr>\n",
       "      <th>0</th>\n",
       "      <td>93</td>\n",
       "      <td>17</td>\n",
       "    </tr>\n",
       "    <tr>\n",
       "      <th>1</th>\n",
       "      <td>19</td>\n",
       "      <td>49</td>\n",
       "    </tr>\n",
       "  </tbody>\n",
       "</table>\n",
       "</div>"
      ],
      "text/plain": [
       "col_0      0   1\n",
       "survived        \n",
       "0         93  17\n",
       "1         19  49"
      ]
     },
     "execution_count": 92,
     "metadata": {},
     "output_type": "execute_result"
    }
   ],
   "source": [
    "survived_counts4 = pd.crosstab(y_validate, clf4.predict(X_validate))\n",
    "survived_counts4"
   ]
  },
  {
   "cell_type": "code",
   "execution_count": 87,
   "id": "8074e53a-ce6c-4802-809a-8cd563784f36",
   "metadata": {
    "tags": []
   },
   "outputs": [
    {
     "name": "stdout",
     "output_type": "stream",
     "text": [
      "              precision    recall  f1-score   support\n",
      "\n",
      "           0       0.83      0.85      0.84       110\n",
      "           1       0.74      0.72      0.73        68\n",
      "\n",
      "    accuracy                           0.80       178\n",
      "   macro avg       0.79      0.78      0.78       178\n",
      "weighted avg       0.80      0.80      0.80       178\n",
      "\n"
     ]
    }
   ],
   "source": [
    "print(classification_report(y_validate, clf4.predict(X_validate)))"
   ]
  },
  {
   "cell_type": "code",
   "execution_count": null,
   "id": "bb7a7c46-06b1-438f-be03-7b9cb1be2fe6",
   "metadata": {},
   "outputs": [],
   "source": []
  }
 ],
 "metadata": {
  "kernelspec": {
   "display_name": "Python 3 (ipykernel)",
   "language": "python",
   "name": "python3"
  },
  "language_info": {
   "codemirror_mode": {
    "name": "ipython",
    "version": 3
   },
   "file_extension": ".py",
   "mimetype": "text/x-python",
   "name": "python",
   "nbconvert_exporter": "python",
   "pygments_lexer": "ipython3",
   "version": "3.11.5"
  }
 },
 "nbformat": 4,
 "nbformat_minor": 5
}
